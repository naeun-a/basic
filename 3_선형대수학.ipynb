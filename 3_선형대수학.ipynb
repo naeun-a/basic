{
  "cells": [
    {
      "cell_type": "code",
      "execution_count": null,
      "metadata": {
        "id": "bdBKbk0l_g4y",
        "outputId": "8bb48980-57e0-48fe-e0c8-2c24ca7b75da"
      },
      "outputs": [
        {
          "name": "stdout",
          "output_type": "stream",
          "text": [
            "[1 2 3]\n"
          ]
        }
      ],
      "source": [
        "# Part 3 선형대수학\n",
        "# 10장 벡터와 공간\n",
        "# 10.1 벡터\n",
        "# 10.1.2 벡터란\n",
        "# 벡터란\n",
        "\n",
        "# Numpy 라이브러리 호출\n",
        "import numpy as np\n",
        "x = np.array([1, 2, 3]) # 크기가 (3, )인 1차원 배열의 표현\n",
        "print(x)"
      ]
    },
    {
      "cell_type": "code",
      "execution_count": null,
      "metadata": {
        "id": "xJ9r7ekZ_g41",
        "outputId": "1050e2cb-76c3-47b7-a5fb-d47ad22461f0"
      },
      "outputs": [
        {
          "name": "stdout",
          "output_type": "stream",
          "text": [
            "[[1 2 3]]\n"
          ]
        }
      ],
      "source": [
        "u = np.array([[1, 2, 3]])  # 크기가 (1, 3)인 2차원 배열의 표현(행 벡터)\n",
        "print(u)"
      ]
    },
    {
      "cell_type": "code",
      "execution_count": null,
      "metadata": {
        "id": "I00fsVHz_g41",
        "outputId": "a8b85584-cb6f-4040-f392-3db14640093c"
      },
      "outputs": [
        {
          "name": "stdout",
          "output_type": "stream",
          "text": [
            "[[1]\n",
            " [2]\n",
            " [3]]\n"
          ]
        }
      ],
      "source": [
        "v = np.array([[1], [2], [3]]) # 크기가 (3, 1)인 2차원 배열의 표현(열 벡터)\n",
        "print(v)"
      ]
    },
    {
      "cell_type": "code",
      "execution_count": null,
      "metadata": {
        "id": "-i5ySVVL_g41",
        "outputId": "249c3ddb-4eea-4c75-eb39-b0e2bfeeb33b"
      },
      "outputs": [
        {
          "data": {
            "text/plain": [
              "{1: 0.3333333333333333, 2: 0.6666666666666666, 3: 0.0}"
            ]
          },
          "execution_count": 4,
          "metadata": {},
          "output_type": "execute_result"
        }
      ],
      "source": [
        "# 벡터의 표현(확률분포를 벡터로 표현)\n",
        "{1: 1/3, 2: 2/3, 3: 0/3}"
      ]
    },
    {
      "cell_type": "code",
      "execution_count": null,
      "metadata": {
        "id": "o_1VxlXC_g42",
        "outputId": "d9ebcd70-4a3f-4cbe-8410-abc72921c81c"
      },
      "outputs": [
        {
          "name": "stdout",
          "output_type": "stream",
          "text": [
            "[0.53452248 0.80178373 0.26726124]\n"
          ]
        }
      ],
      "source": [
        "# 10.1.3 특수한 벡터\n",
        "# 벡터란\n",
        "# 단위벡터\n",
        "\n",
        "import numpy as np\n",
        "from scipy import linalg\n",
        "\n",
        "# 단위 벡터를 위해 두가지 방법을 사용할 수 있다.\n",
        "# NumPy의 서브 패키지인 linalg에서 제공하는 함수 norm()을 사용하여\n",
        "# 벡터의 크기를 계산한 후 기존 벡터로 나눠준다.\n",
        "\n",
        "s=np.array([2,3,1])\n",
        "v_hat01 = s / linalg.norm(s)\n",
        "print(v_hat01)"
      ]
    },
    {
      "cell_type": "code",
      "execution_count": null,
      "metadata": {
        "id": "LEEXmvca_g42",
        "outputId": "0cc5c7cc-acdd-4c98-f808-12ab9aabf0b3"
      },
      "outputs": [
        {
          "name": "stdout",
          "output_type": "stream",
          "text": [
            "[ 0.31622777 -0.9486833 ]\n"
          ]
        }
      ],
      "source": [
        "# 파이썬 문제풀이(1)\n",
        "\n",
        "import numpy as np\n",
        "x=np.array([1, -3])\n",
        "v_hat = x / linalg.norm(x)\n",
        "print(v_hat)"
      ]
    },
    {
      "cell_type": "code",
      "execution_count": null,
      "metadata": {
        "id": "3plgyiRM_g42",
        "outputId": "a556b3eb-45d9-4d32-a9e5-6d0299aa33fb"
      },
      "outputs": [
        {
          "data": {
            "text/plain": [
              "array([-0.6, -0.8])"
            ]
          },
          "execution_count": 7,
          "metadata": {},
          "output_type": "execute_result"
        }
      ],
      "source": [
        "# 파이썬 문제풀이(2)\n",
        "\n",
        "import numpy as np\n",
        "x=np.array([-6,-8])\n",
        "v_hat2 = x / (x**2).sum()**0.5\n",
        "v_hat2"
      ]
    },
    {
      "cell_type": "code",
      "execution_count": null,
      "metadata": {
        "id": "R5bHbhJu_g42",
        "outputId": "a5bc92ee-5f8e-4489-c36d-6411d61e0290"
      },
      "outputs": [
        {
          "name": "stdout",
          "output_type": "stream",
          "text": [
            "[-0.78086881 -0.62469505]\n"
          ]
        }
      ],
      "source": [
        "# 파이썬 문제풀이(3)\n",
        "import numpy as np\n",
        "x=np.array([-5, -4])\n",
        "v_hat = x / linalg.norm(x)\n",
        "print (v_hat)"
      ]
    },
    {
      "cell_type": "code",
      "execution_count": null,
      "metadata": {
        "id": "nLW5cUtR_g42",
        "outputId": "806b91fb-7c03-49b5-c5e7-00c522a6f567"
      },
      "outputs": [
        {
          "data": {
            "text/plain": [
              "array([0., 0., 0., 0., 0.])"
            ]
          },
          "execution_count": 9,
          "metadata": {},
          "output_type": "execute_result"
        }
      ],
      "source": [
        "# 영벡터\n",
        "\n",
        "import numpy as np\n",
        "np.zeros(5)"
      ]
    },
    {
      "cell_type": "code",
      "execution_count": null,
      "metadata": {
        "id": "UdxCpIRB_g43",
        "outputId": "853b5256-5e3b-4833-c8af-a3fa4ba3e6ed"
      },
      "outputs": [
        {
          "data": {
            "text/plain": [
              "(5,)"
            ]
          },
          "execution_count": 10,
          "metadata": {},
          "output_type": "execute_result"
        }
      ],
      "source": [
        "np.zeros(5).shape"
      ]
    },
    {
      "cell_type": "code",
      "execution_count": null,
      "metadata": {
        "id": "je-hKsNe_g43",
        "outputId": "598da0fe-7673-45fb-96e8-1ed10c9e7dfd"
      },
      "outputs": [
        {
          "data": {
            "text/plain": [
              "array([[0., 0.],\n",
              "       [0., 0.]])"
            ]
          },
          "execution_count": 11,
          "metadata": {},
          "output_type": "execute_result"
        }
      ],
      "source": [
        "s = (2,2)\n",
        "np.zeros(s)"
      ]
    },
    {
      "cell_type": "code",
      "execution_count": null,
      "metadata": {
        "id": "y4-zI_om_g43",
        "outputId": "1db81609-7181-4de1-c5ca-2838eebc9a28"
      },
      "outputs": [
        {
          "name": "stdout",
          "output_type": "stream",
          "text": [
            "[ 5 -2]\n"
          ]
        }
      ],
      "source": [
        "# 10.2 선형 결합과 선형 독립\n",
        "# 10.2.1 선형 결합(linear combination)과 생성(span)\n",
        "\n",
        "import numpy as np\n",
        "a = np.array([2,4])\n",
        "b = np.array([1,6])\n",
        "c=(4*a)+((-3)*b)\n",
        "print(c)"
      ]
    },
    {
      "cell_type": "code",
      "execution_count": 1,
      "metadata": {
        "id": "RP6vcOMK_g43",
        "outputId": "c4d68c08-eb1b-4d73-9ea7-40fa06b83087",
        "colab": {
          "base_uri": "https://localhost:8080/"
        }
      },
      "outputs": [
        {
          "output_type": "execute_result",
          "data": {
            "text/plain": [
              "1"
            ]
          },
          "metadata": {},
          "execution_count": 1
        }
      ],
      "source": [
        "# 10.2.3 부분공간과 부분공간의 기저\n",
        "# 랭크(rank)\n",
        "\n",
        "import numpy as np\n",
        "X1 = np.array([[2, 4], [1, 2]])\n",
        "np.linalg.matrix_rank(X1)"
      ]
    },
    {
      "cell_type": "code",
      "execution_count": null,
      "metadata": {
        "id": "HdHLFcO5_g43",
        "outputId": "0aa28a70-1b82-448c-c54b-88629bd2efd2"
      },
      "outputs": [
        {
          "data": {
            "text/plain": [
              "1"
            ]
          },
          "execution_count": 14,
          "metadata": {},
          "output_type": "execute_result"
        }
      ],
      "source": [
        "X1 = np.array([[2, 4], [3, 6]])\n",
        "np.linalg.matrix_rank(X1)"
      ]
    },
    {
      "cell_type": "code",
      "execution_count": null,
      "metadata": {
        "id": "1Be89L8K_g43",
        "outputId": "71f434f1-0965-44ec-d4a3-371ab33dbac8"
      },
      "outputs": [
        {
          "data": {
            "text/plain": [
              "2"
            ]
          },
          "execution_count": 15,
          "metadata": {},
          "output_type": "execute_result"
        }
      ],
      "source": [
        "# 파이썬 문제풀이(1)\n",
        "\n",
        "import numpy as np\n",
        "X1 = np.array([[1, 2], [3, 5]])\n",
        "np.linalg.matrix_rank(X1)"
      ]
    },
    {
      "cell_type": "code",
      "execution_count": null,
      "metadata": {
        "id": "B_etUReB_g44",
        "outputId": "a6e72e1f-7ce2-47bd-ce76-0a1e90090709"
      },
      "outputs": [
        {
          "data": {
            "text/plain": [
              "1"
            ]
          },
          "execution_count": 16,
          "metadata": {},
          "output_type": "execute_result"
        }
      ],
      "source": [
        "# 파이썬 문제풀이(2)\n",
        "\n",
        "import numpy as np\n",
        "X1 = np.array([[1, 2], [3, 6]])\n",
        "np.linalg.matrix_rank(X1)"
      ]
    },
    {
      "cell_type": "code",
      "execution_count": null,
      "metadata": {
        "id": "uQS1599f_g44",
        "outputId": "777720a0-44d2-44b8-8f53-153d5d4c672b"
      },
      "outputs": [
        {
          "name": "stdout",
          "output_type": "stream",
          "text": [
            "[5, 4]\n"
          ]
        }
      ],
      "source": [
        "# 10.3 벡터의 내적과 외적\n",
        "# 10.3.1 벡터의 덧셈과 뺄셈\n",
        "# 벡터의 덧셈\n",
        "\n",
        "x=[2,3]\n",
        "y=[3,1]\n",
        "z=[i+j for i, j in zip(x,y)]\n",
        "print(z)"
      ]
    },
    {
      "cell_type": "code",
      "execution_count": null,
      "metadata": {
        "id": "k4sUVklV_g44",
        "outputId": "a3b845cb-557f-42cd-d79d-6817ad41be45"
      },
      "outputs": [
        {
          "data": {
            "text/plain": [
              "[(1, 4), (2, 5), (3, 6)]"
            ]
          },
          "execution_count": 18,
          "metadata": {},
          "output_type": "execute_result"
        }
      ],
      "source": [
        "# 노트\n",
        "\n",
        "list(zip([1, 2, 3], [4, 5, 6]))"
      ]
    },
    {
      "cell_type": "code",
      "execution_count": null,
      "metadata": {
        "id": "xmR_i7F9_g44",
        "outputId": "5b3cdabc-1557-4862-ffa2-f2fbcea930d5"
      },
      "outputs": [
        {
          "data": {
            "text/plain": [
              "[(1, 4, 7), (2, 5, 8), (3, 6, 9)]"
            ]
          },
          "execution_count": 19,
          "metadata": {},
          "output_type": "execute_result"
        }
      ],
      "source": [
        "list(zip([1, 2, 3], [4, 5, 6], [7, 8, 9]))"
      ]
    },
    {
      "cell_type": "code",
      "execution_count": null,
      "metadata": {
        "id": "xECPUvc9_g44",
        "outputId": "3dd37527-6303-42db-f1a7-af3a9136dada"
      },
      "outputs": [
        {
          "name": "stdout",
          "output_type": "stream",
          "text": [
            "[5 4]\n"
          ]
        }
      ],
      "source": [
        "# NumPy 라이브러리 이용한 간단한 코드\n",
        "\n",
        "import numpy as np\n",
        "u = np.array(x)\n",
        "v = np.array(y)\n",
        "w=u+v\n",
        "print(w)"
      ]
    },
    {
      "cell_type": "code",
      "execution_count": null,
      "metadata": {
        "id": "RpmvsD8q_g44",
        "outputId": "2ba2bb2b-a1c3-4920-9425-96f52312889d"
      },
      "outputs": [
        {
          "name": "stdout",
          "output_type": "stream",
          "text": [
            "[-6 13]\n"
          ]
        }
      ],
      "source": [
        "# 파이썬 문제풀이(1)\n",
        "\n",
        "import numpy as np\n",
        "x=[-4,5]\n",
        "y=[-2,8]\n",
        "u = np.array(x)\n",
        "v = np.array(y)\n",
        "w=u+v\n",
        "print(w)"
      ]
    },
    {
      "cell_type": "code",
      "execution_count": null,
      "metadata": {
        "id": "tdz1Nw8z_g44",
        "outputId": "7879cfee-486b-45ef-916e-87ec63ceff4f"
      },
      "outputs": [
        {
          "name": "stdout",
          "output_type": "stream",
          "text": [
            "[15 -1]\n"
          ]
        }
      ],
      "source": [
        "# 파이썬 문제풀이(2)\n",
        "\n",
        "import numpy as np\n",
        "x=[11,2]\n",
        "y=[4,-3]\n",
        "u = np.array(x)\n",
        "v = np.array(y)\n",
        "w=u+v\n",
        "print(w)"
      ]
    },
    {
      "cell_type": "code",
      "execution_count": null,
      "metadata": {
        "id": "3z5IpRrA_g44",
        "outputId": "0d29cf2c-5d2b-435e-b5c7-4f24f2e7d607"
      },
      "outputs": [
        {
          "name": "stdout",
          "output_type": "stream",
          "text": [
            "[-38  19]\n"
          ]
        }
      ],
      "source": [
        "# 파이썬 문제풀이(3)\n",
        "\n",
        "import numpy as np\n",
        "x=[-13,53]\n",
        "y=[-25,-34]\n",
        "u = np.array(x)\n",
        "v = np.array(y)\n",
        "w=u+v\n",
        "print(w)"
      ]
    },
    {
      "cell_type": "code",
      "execution_count": null,
      "metadata": {
        "id": "W2039Ze9_g45",
        "outputId": "4fcc5fc6-8c64-4415-8c18-dbf7229a623a"
      },
      "outputs": [
        {
          "name": "stdout",
          "output_type": "stream",
          "text": [
            "[-1, 2]\n"
          ]
        }
      ],
      "source": [
        "# 벡터의 뺄셈\n",
        "\n",
        "x=[2,3]\n",
        "y=[3,1]\n",
        "z=[i-j for i, j in zip(x,y)]\n",
        "print(z)"
      ]
    },
    {
      "cell_type": "code",
      "execution_count": null,
      "metadata": {
        "id": "1NwDqrq0_g45",
        "outputId": "b25cf5e4-434e-4690-bda8-7335d3df2e7c"
      },
      "outputs": [
        {
          "name": "stdout",
          "output_type": "stream",
          "text": [
            "[-1  2]\n"
          ]
        }
      ],
      "source": [
        "# NumPy 라이브러리 이용한 간단한 코드\n",
        "\n",
        "import numpy as np\n",
        "u = np.array(x)\n",
        "v = np.array(y)\n",
        "w=u-v\n",
        "print(w)"
      ]
    },
    {
      "cell_type": "code",
      "execution_count": null,
      "metadata": {
        "id": "SeZhXNQG_g45",
        "outputId": "e3c6035f-15a9-44a5-fb38-5ed6bd05f563"
      },
      "outputs": [
        {
          "name": "stdout",
          "output_type": "stream",
          "text": [
            "[ 2 11]\n"
          ]
        }
      ],
      "source": [
        "# 파이썬 문제풀이(1)\n",
        "\n",
        "import numpy as np\n",
        "x=[-7,15]\n",
        "y=[-9,4]\n",
        "u = np.array(x)\n",
        "v = np.array(y)\n",
        "w=u-v\n",
        "print(w)"
      ]
    },
    {
      "cell_type": "code",
      "execution_count": null,
      "metadata": {
        "id": "9Fn1dB3u_g45",
        "outputId": "116ed017-33f0-4494-9ead-18ddf7d0caa5"
      },
      "outputs": [
        {
          "name": "stdout",
          "output_type": "stream",
          "text": [
            "[-19  20]\n"
          ]
        }
      ],
      "source": [
        "# 파이썬 문제풀이(2)\n",
        "\n",
        "import numpy as np\n",
        "x=[-11,6]\n",
        "y=[8,-14]\n",
        "u = np.array(x)\n",
        "v = np.array(y)\n",
        "w=u-v\n",
        "print(w)"
      ]
    },
    {
      "cell_type": "code",
      "execution_count": null,
      "metadata": {
        "id": "S2WY67lF_g45",
        "outputId": "54f036ff-ee73-4d5d-ba9f-a6fe32c3d50a"
      },
      "outputs": [
        {
          "name": "stdout",
          "output_type": "stream",
          "text": [
            "[ 8 35]\n"
          ]
        }
      ],
      "source": [
        "# 파이썬 문제풀이(3)\n",
        "\n",
        "import numpy as np\n",
        "x=[-11,14]\n",
        "y=[-19,-21]\n",
        "u = np.array(x)\n",
        "v = np.array(y)\n",
        "w=u-v\n",
        "print(w)"
      ]
    },
    {
      "cell_type": "code",
      "execution_count": null,
      "metadata": {
        "id": "0zEdpQrS_g45",
        "outputId": "ec9242fb-3bac-4239-e617-1a40e252be16"
      },
      "outputs": [
        {
          "name": "stdout",
          "output_type": "stream",
          "text": [
            "[24, 32]\n"
          ]
        }
      ],
      "source": [
        "# 10.3.2 벡터의 곱셈\n",
        "# 벡터의 내적\n",
        "\n",
        "x=[3,4]\n",
        "c=8\n",
        "z=[c*I for I in x]\n",
        "print(z)"
      ]
    },
    {
      "cell_type": "code",
      "execution_count": null,
      "metadata": {
        "id": "uCVZlyqh_g45",
        "outputId": "d9b9fdd2-b378-4f0d-8024-bffe35c95487"
      },
      "outputs": [
        {
          "name": "stdout",
          "output_type": "stream",
          "text": [
            "[24 32]\n"
          ]
        }
      ],
      "source": [
        "# NumPy 라이브러리 이용한 간단한 코드\n",
        "\n",
        "import numpy as np\n",
        "u = np.array([3,4])\n",
        "c = 8\n",
        "w=u*c\n",
        "print(w)"
      ]
    },
    {
      "cell_type": "code",
      "execution_count": null,
      "metadata": {
        "id": "7laOkZvm_g45",
        "outputId": "d2313c41-9175-498c-f2de-bbfd1e7c8e54"
      },
      "outputs": [
        {
          "name": "stdout",
          "output_type": "stream",
          "text": [
            "72\n"
          ]
        }
      ],
      "source": [
        "# 벡터의 내적(inner product)\n",
        "\n",
        "import numpy as np\n",
        "u = np.array([6,6])\n",
        "v = np.array([12,0])\n",
        "uv = np.dot(u, v)\n",
        "print(uv)"
      ]
    },
    {
      "cell_type": "code",
      "execution_count": null,
      "metadata": {
        "id": "x62EfdNX_g45",
        "outputId": "815e4e62-ece4-467b-ecf2-b233c4d86918"
      },
      "outputs": [
        {
          "ename": "ValueError",
          "evalue": "shapes (1,2,3) and (1,2,3) not aligned: 3 (dim 2) != 2 (dim 1)",
          "output_type": "error",
          "traceback": [
            "\u001b[1;31m---------------------------------------------------------------------------\u001b[0m",
            "\u001b[1;31mValueError\u001b[0m                                Traceback (most recent call last)",
            "\u001b[1;32m<ipython-input-32-a3fbbf2ce60f>\u001b[0m in \u001b[0;36m<module>\u001b[1;34m\u001b[0m\n\u001b[0;32m      9\u001b[0m \u001b[0mB5\u001b[0m \u001b[1;33m=\u001b[0m \u001b[0mnp\u001b[0m\u001b[1;33m.\u001b[0m\u001b[0marange\u001b[0m\u001b[1;33m(\u001b[0m\u001b[1;36m1\u001b[0m\u001b[1;33m*\u001b[0m\u001b[1;36m2\u001b[0m\u001b[1;33m*\u001b[0m\u001b[1;36m3\u001b[0m\u001b[1;33m)\u001b[0m\u001b[1;33m.\u001b[0m\u001b[0mreshape\u001b[0m\u001b[1;33m(\u001b[0m\u001b[1;33m(\u001b[0m\u001b[1;36m3\u001b[0m\u001b[1;33m,\u001b[0m\u001b[1;36m1\u001b[0m\u001b[1;33m,\u001b[0m\u001b[1;36m2\u001b[0m\u001b[1;33m)\u001b[0m\u001b[1;33m)\u001b[0m\u001b[1;33m\u001b[0m\u001b[1;33m\u001b[0m\u001b[0m\n\u001b[0;32m     10\u001b[0m \u001b[0mB6\u001b[0m \u001b[1;33m=\u001b[0m \u001b[0mnp\u001b[0m\u001b[1;33m.\u001b[0m\u001b[0marange\u001b[0m\u001b[1;33m(\u001b[0m\u001b[1;36m1\u001b[0m\u001b[1;33m*\u001b[0m\u001b[1;36m2\u001b[0m\u001b[1;33m*\u001b[0m\u001b[1;36m3\u001b[0m\u001b[1;33m)\u001b[0m\u001b[1;33m.\u001b[0m\u001b[0mreshape\u001b[0m\u001b[1;33m(\u001b[0m\u001b[1;33m(\u001b[0m\u001b[1;36m3\u001b[0m\u001b[1;33m,\u001b[0m\u001b[1;36m2\u001b[0m\u001b[1;33m,\u001b[0m\u001b[1;36m1\u001b[0m\u001b[1;33m)\u001b[0m\u001b[1;33m)\u001b[0m\u001b[1;33m\u001b[0m\u001b[1;33m\u001b[0m\u001b[0m\n\u001b[1;32m---> 11\u001b[1;33m \u001b[0mnp\u001b[0m\u001b[1;33m.\u001b[0m\u001b[0mdot\u001b[0m\u001b[1;33m(\u001b[0m\u001b[0mA\u001b[0m\u001b[1;33m,\u001b[0m\u001b[0mB1\u001b[0m\u001b[1;33m)\u001b[0m \u001b[1;31m# 결과는 오류가 맞습니다\u001b[0m\u001b[1;33m\u001b[0m\u001b[1;33m\u001b[0m\u001b[0m\n\u001b[0m",
            "\u001b[1;32m<__array_function__ internals>\u001b[0m in \u001b[0;36mdot\u001b[1;34m(*args, **kwargs)\u001b[0m\n",
            "\u001b[1;31mValueError\u001b[0m: shapes (1,2,3) and (1,2,3) not aligned: 3 (dim 2) != 2 (dim 1)"
          ]
        }
      ],
      "source": [
        "# numpy.dot()를 이용하여 벡터의 내적\n",
        "\n",
        "import numpy as np\n",
        "A = np.arange(1*2*3).reshape((1,2,3))\n",
        "B1 = np.arange(1*2*3).reshape((1,2,3))\n",
        "B2 = np.arange(1*2*3).reshape((1,3,2))\n",
        "B3 = np.arange(1*2*3).reshape((2,1,3))\n",
        "B4 = np.arange(1*2*3).reshape((2,3,1))\n",
        "B5 = np.arange(1*2*3).reshape((3,1,2))\n",
        "B6 = np.arange(1*2*3).reshape((3,2,1))\n",
        "np.dot(A,B1) # 결과는 오류가 맞습니다"
      ]
    },
    {
      "cell_type": "code",
      "execution_count": null,
      "metadata": {
        "id": "sb6GeK5T_g46",
        "outputId": "b8570a40-d194-4fcd-b894-7f301591073a"
      },
      "outputs": [
        {
          "data": {
            "text/plain": [
              "array([[[[10, 13]],\n",
              "\n",
              "        [[28, 40]]]])"
            ]
          },
          "execution_count": 33,
          "metadata": {},
          "output_type": "execute_result"
        }
      ],
      "source": [
        "np.dot(A,B2)"
      ]
    },
    {
      "cell_type": "code",
      "execution_count": null,
      "metadata": {
        "id": "3ebSEEOW_g46",
        "outputId": "6144f9be-8edb-4f03-c589-b4bd358d11eb"
      },
      "outputs": [
        {
          "ename": "ValueError",
          "evalue": "shapes (1,2,3) and (2,1,3) not aligned: 3 (dim 2) != 1 (dim 1)",
          "output_type": "error",
          "traceback": [
            "\u001b[1;31m---------------------------------------------------------------------------\u001b[0m",
            "\u001b[1;31mValueError\u001b[0m                                Traceback (most recent call last)",
            "\u001b[1;32m<ipython-input-34-94f98aeef2d9>\u001b[0m in \u001b[0;36m<module>\u001b[1;34m\u001b[0m\n\u001b[1;32m----> 1\u001b[1;33m \u001b[0mnp\u001b[0m\u001b[1;33m.\u001b[0m\u001b[0mdot\u001b[0m\u001b[1;33m(\u001b[0m\u001b[0mA\u001b[0m\u001b[1;33m,\u001b[0m\u001b[0mB3\u001b[0m\u001b[1;33m)\u001b[0m \u001b[1;31m# 결과는 오류가 맞습니다\u001b[0m\u001b[1;33m\u001b[0m\u001b[1;33m\u001b[0m\u001b[0m\n\u001b[0m",
            "\u001b[1;32m<__array_function__ internals>\u001b[0m in \u001b[0;36mdot\u001b[1;34m(*args, **kwargs)\u001b[0m\n",
            "\u001b[1;31mValueError\u001b[0m: shapes (1,2,3) and (2,1,3) not aligned: 3 (dim 2) != 1 (dim 1)"
          ]
        }
      ],
      "source": [
        "np.dot(A,B3) # 결과는 오류가 맞습니다"
      ]
    },
    {
      "cell_type": "code",
      "execution_count": null,
      "metadata": {
        "id": "d4SDuFhf_g46",
        "outputId": "076ad8d3-e2db-4aaf-de6f-387928cdd3bc"
      },
      "outputs": [
        {
          "data": {
            "text/plain": [
              "array([[[[ 5],\n",
              "         [14]],\n",
              "\n",
              "        [[14],\n",
              "         [50]]]])"
            ]
          },
          "execution_count": 35,
          "metadata": {},
          "output_type": "execute_result"
        }
      ],
      "source": [
        "np.dot(A,B4)"
      ]
    },
    {
      "cell_type": "code",
      "execution_count": null,
      "metadata": {
        "id": "hsKq3EcI_g46",
        "outputId": "96cf5c01-5585-4b80-cb99-b5afa4fe41a7"
      },
      "outputs": [
        {
          "ename": "ValueError",
          "evalue": "shapes (1,2,3) and (3,1,2) not aligned: 3 (dim 2) != 1 (dim 1)",
          "output_type": "error",
          "traceback": [
            "\u001b[1;31m---------------------------------------------------------------------------\u001b[0m",
            "\u001b[1;31mValueError\u001b[0m                                Traceback (most recent call last)",
            "\u001b[1;32m<ipython-input-36-96b485137ea0>\u001b[0m in \u001b[0;36m<module>\u001b[1;34m\u001b[0m\n\u001b[1;32m----> 1\u001b[1;33m \u001b[0mnp\u001b[0m\u001b[1;33m.\u001b[0m\u001b[0mdot\u001b[0m\u001b[1;33m(\u001b[0m\u001b[0mA\u001b[0m\u001b[1;33m,\u001b[0m\u001b[0mB5\u001b[0m\u001b[1;33m)\u001b[0m \u001b[1;31m# 결과는 오류가 맞습니다\u001b[0m\u001b[1;33m\u001b[0m\u001b[1;33m\u001b[0m\u001b[0m\n\u001b[0m",
            "\u001b[1;32m<__array_function__ internals>\u001b[0m in \u001b[0;36mdot\u001b[1;34m(*args, **kwargs)\u001b[0m\n",
            "\u001b[1;31mValueError\u001b[0m: shapes (1,2,3) and (3,1,2) not aligned: 3 (dim 2) != 1 (dim 1)"
          ]
        }
      ],
      "source": [
        "np.dot(A,B5) # 결과는 오류가 맞습니다"
      ]
    },
    {
      "cell_type": "code",
      "execution_count": null,
      "metadata": {
        "id": "K9hV3u57_g46",
        "outputId": "b81bd2f6-159a-4879-e98e-4163db4e1f1d"
      },
      "outputs": [
        {
          "ename": "ValueError",
          "evalue": "shapes (1,2,3) and (3,2,1) not aligned: 3 (dim 2) != 2 (dim 1)",
          "output_type": "error",
          "traceback": [
            "\u001b[1;31m---------------------------------------------------------------------------\u001b[0m",
            "\u001b[1;31mValueError\u001b[0m                                Traceback (most recent call last)",
            "\u001b[1;32m<ipython-input-37-36bec492a8d6>\u001b[0m in \u001b[0;36m<module>\u001b[1;34m\u001b[0m\n\u001b[1;32m----> 1\u001b[1;33m \u001b[0mnp\u001b[0m\u001b[1;33m.\u001b[0m\u001b[0mdot\u001b[0m\u001b[1;33m(\u001b[0m\u001b[0mA\u001b[0m\u001b[1;33m,\u001b[0m\u001b[0mB6\u001b[0m\u001b[1;33m)\u001b[0m \u001b[1;31m# 결과는 오류가 맞습니다\u001b[0m\u001b[1;33m\u001b[0m\u001b[1;33m\u001b[0m\u001b[0m\n\u001b[0m",
            "\u001b[1;32m<__array_function__ internals>\u001b[0m in \u001b[0;36mdot\u001b[1;34m(*args, **kwargs)\u001b[0m\n",
            "\u001b[1;31mValueError\u001b[0m: shapes (1,2,3) and (3,2,1) not aligned: 3 (dim 2) != 2 (dim 1)"
          ]
        }
      ],
      "source": [
        "np.dot(A,B6) # 결과는 오류가 맞습니다"
      ]
    },
    {
      "cell_type": "code",
      "execution_count": null,
      "metadata": {
        "id": "nPd10JYv_g46",
        "outputId": "f96648a6-9dba-45c5-f4d8-cc7beba682ee"
      },
      "outputs": [
        {
          "name": "stdout",
          "output_type": "stream",
          "text": [
            "-75\n"
          ]
        }
      ],
      "source": [
        "# 파이썬 문제풀이(1)\n",
        "\n",
        "import numpy as np\n",
        "u = np.array([3, -6])\n",
        "v = np.array([-7, 9])\n",
        "uv = np.dot(u, v)\n",
        "print(uv)"
      ]
    },
    {
      "cell_type": "code",
      "execution_count": null,
      "metadata": {
        "id": "qUp_QKi7_g46",
        "outputId": "8e268e5d-884a-48d8-f9b5-eee0b5cc66ac"
      },
      "outputs": [
        {
          "name": "stdout",
          "output_type": "stream",
          "text": [
            "11\n"
          ]
        }
      ],
      "source": [
        "# 파이썬 문제풀이(2)\n",
        "\n",
        "import numpy as np\n",
        "u = np.array([-3, 4, 7])\n",
        "v = np.array([-4, -9, 5])\n",
        "uv = np.dot(u, v)\n",
        "print(uv)"
      ]
    },
    {
      "cell_type": "code",
      "execution_count": null,
      "metadata": {
        "id": "KpKPCHsj_g5A",
        "outputId": "b59648d7-7a3e-4e1e-b214-9d1a9d53d8a5"
      },
      "outputs": [
        {
          "name": "stdout",
          "output_type": "stream",
          "text": [
            "194\n"
          ]
        }
      ],
      "source": [
        "# 파이썬 문제풀이(3)\n",
        "\n",
        "import numpy as np\n",
        "u = np.array([3, -11, 7])\n",
        "v = np.array([-4, -13, 9])\n",
        "uv = np.dot(u, v)\n",
        "print(uv)"
      ]
    },
    {
      "cell_type": "code",
      "execution_count": null,
      "metadata": {
        "id": "YhhJfWsR_g5A",
        "outputId": "2fe06ac4-9c07-4da8-cf66-d21ab186b7ad"
      },
      "outputs": [
        {
          "data": {
            "text/plain": [
              "[-2, 4, -2]"
            ]
          },
          "execution_count": 41,
          "metadata": {},
          "output_type": "execute_result"
        }
      ],
      "source": [
        "# 벡터의 외적\n",
        "a = (1, 3, 5)\n",
        "b = (2, 4, 6)\n",
        "\n",
        "# 벡터의 외적을 위한 수식을 함수로 구현\n",
        "def cross(a, b):\n",
        "    c = [a[1]*b[2] - a[2]*b[1],\n",
        "    a[2]*b[0] - a[0]*b[2],\n",
        "    a[0]*b[1] - a[1]*b[0]]\n",
        "    return c\n",
        "cross(a,b)"
      ]
    },
    {
      "cell_type": "code",
      "execution_count": null,
      "metadata": {
        "id": "Mf4Y13XT_g5A",
        "outputId": "e62184d1-ca1b-472a-8ca1-513040c30069"
      },
      "outputs": [
        {
          "name": "stdout",
          "output_type": "stream",
          "text": [
            "[-2  4 -2]\n"
          ]
        }
      ],
      "source": [
        "# Numpy 이용한 벡터 외적 계산\n",
        "import numpy as np\n",
        "print(np.cross(a,b))    # cross() 함수 이용한 결과\n"
      ]
    },
    {
      "cell_type": "code",
      "execution_count": null,
      "metadata": {
        "id": "7bXanRSW_g5A",
        "outputId": "82610aff-6734-4098-bc24-0e28e670948f"
      },
      "outputs": [
        {
          "name": "stdout",
          "output_type": "stream",
          "text": [
            "[94 54 29]\n"
          ]
        }
      ],
      "source": [
        "# 파이썬 문제풀이(1)\n",
        "import numpy as np\n",
        "a = np.array([5, -13, 8])\n",
        "b = np.array([-2, 11, -14])\n",
        "print(np.cross(a,b))"
      ]
    },
    {
      "cell_type": "code",
      "execution_count": null,
      "metadata": {
        "id": "01A_ty6q_g5B",
        "outputId": "bc539a29-7a92-4883-baf0-108916b1d470"
      },
      "outputs": [
        {
          "name": "stdout",
          "output_type": "stream",
          "text": [
            "[-64 142  99]\n"
          ]
        }
      ],
      "source": [
        "# 파이썬 문제풀이(2)\n",
        "import numpy as np\n",
        "a = np.array([-7, 8, -16])\n",
        "b = np.array([-8, -5, 2])\n",
        "print(np.cross(a,b))"
      ]
    },
    {
      "cell_type": "code",
      "execution_count": null,
      "metadata": {
        "id": "FEblwugk_g5B",
        "outputId": "e07901fc-c6d2-455e-ce09-befacbe8ba1b"
      },
      "outputs": [
        {
          "name": "stdout",
          "output_type": "stream",
          "text": [
            "[1 2]\n"
          ]
        }
      ],
      "source": [
        "# 10.3.3 직교벡터\n",
        "# 벡터의 크기와 거리\n",
        "# 벡터의 크기\n",
        "\n",
        "# 벡터  = (1, 2)일 때,  의 길이를 구해 보자.\n",
        "import numpy as np\n",
        "a = np.array([1,2])\n",
        "print(a)"
      ]
    },
    {
      "cell_type": "code",
      "execution_count": null,
      "metadata": {
        "id": "11-sfH5f_g5B",
        "outputId": "e29e147b-ce12-4c47-99c7-2368e73a332e"
      },
      "outputs": [
        {
          "data": {
            "text/plain": [
              "2.23606797749979"
            ]
          },
          "execution_count": 46,
          "metadata": {},
          "output_type": "execute_result"
        }
      ],
      "source": [
        "np.linalg.norm(a) # a의 길이"
      ]
    },
    {
      "cell_type": "code",
      "execution_count": null,
      "metadata": {
        "id": "5udUPrlo_g5B",
        "outputId": "5f8b3f29-5854-4ae0-d268-d5ccd6ba45c7"
      },
      "outputs": [
        {
          "data": {
            "text/plain": [
              "3.0"
            ]
          },
          "execution_count": 47,
          "metadata": {},
          "output_type": "execute_result"
        }
      ],
      "source": [
        "np.linalg.norm(a, ord=1) # L1 Norm 구하기"
      ]
    },
    {
      "cell_type": "code",
      "execution_count": null,
      "metadata": {
        "id": "RnshabXa_g5B",
        "outputId": "bcf29e19-0544-4cf3-f8c0-441e0586a1a6"
      },
      "outputs": [
        {
          "data": {
            "text/plain": [
              "2.23606797749979"
            ]
          },
          "execution_count": 48,
          "metadata": {},
          "output_type": "execute_result"
        }
      ],
      "source": [
        "np.linalg.norm(a, ord=2) # L2 Norm 구하기"
      ]
    },
    {
      "cell_type": "code",
      "execution_count": null,
      "metadata": {
        "id": "JbSS_oRx_g5B",
        "outputId": "58d0e7d4-fddd-43a3-9362-533ae6e5c6ac"
      },
      "outputs": [
        {
          "data": {
            "text/plain": [
              "12.165525060596439"
            ]
          },
          "execution_count": 49,
          "metadata": {},
          "output_type": "execute_result"
        }
      ],
      "source": [
        "# 파이썬 문제풀이(1)\n",
        "\n",
        "import numpy as np\n",
        "a = np.array([-2,12])\n",
        "np.linalg.norm(a)"
      ]
    },
    {
      "cell_type": "code",
      "execution_count": null,
      "metadata": {
        "id": "LKTGPVhv_g5B",
        "outputId": "583dee0f-5f2c-4173-a38c-94d9b6fbd28c"
      },
      "outputs": [
        {
          "data": {
            "text/plain": [
              "12.206555615733702"
            ]
          },
          "execution_count": 50,
          "metadata": {},
          "output_type": "execute_result"
        }
      ],
      "source": [
        "# 파이썬 문제풀이(2)\n",
        "\n",
        "import numpy as np\n",
        "a=np.array([5**0.5,12])\n",
        "np.linalg.norm(a)"
      ]
    },
    {
      "cell_type": "code",
      "execution_count": null,
      "metadata": {
        "id": "SkN8Ou04_g5C",
        "outputId": "89d2540c-1bf7-4795-eafc-c7ff582cf53a"
      },
      "outputs": [
        {
          "data": {
            "text/plain": [
              "17.26267650163207"
            ]
          },
          "execution_count": 51,
          "metadata": {},
          "output_type": "execute_result"
        }
      ],
      "source": [
        "# 파이썬 문제풀이(3)\n",
        "\n",
        "import numpy as np\n",
        "a=np.array([3,-15,8])\n",
        "np.linalg.norm(a)"
      ]
    },
    {
      "cell_type": "code",
      "execution_count": null,
      "metadata": {
        "id": "FSnkDW10_g5C",
        "outputId": "3685b243-c564-4f1e-b3c2-a55d27f09bbf"
      },
      "outputs": [
        {
          "data": {
            "text/plain": [
              "8.660254037844387"
            ]
          },
          "execution_count": 52,
          "metadata": {},
          "output_type": "execute_result"
        }
      ],
      "source": [
        "# 파이썬 문제풀이(4)\n",
        "\n",
        "import numpy as np\n",
        "a=np.array([-7,10**0.5,4])\n",
        "np.linalg.norm(a)"
      ]
    },
    {
      "cell_type": "code",
      "execution_count": null,
      "metadata": {
        "id": "posUozcA_g5C",
        "outputId": "9564e4fd-cd5f-4895-ac10-b242f1e7826f"
      },
      "outputs": [
        {
          "name": "stdout",
          "output_type": "stream",
          "text": [
            "Euclidean distance:  5.196152422706632\n"
          ]
        }
      ],
      "source": [
        "# 벡터의 거리/유사도\n",
        "# Python을 활용한 벡터의 거리계산(유클리드 거리)\n",
        "\n",
        "# scipy.spatia 모듈로부터 distance 함수 호출\n",
        "from scipy.spatial import distance\n",
        "\n",
        "# 두 점 P1과 P2 명시\n",
        "p1 = (1, 2, 3)\n",
        "p2 = (4, 5, 6)\n",
        "\n",
        "# P1과 P2 사이의 유클리드 거리 계산\n",
        "d = distance.euclidean(p1, p2)\n",
        "print(\"Euclidean distance: \",d)"
      ]
    },
    {
      "cell_type": "code",
      "execution_count": null,
      "metadata": {
        "id": "hcRKPer7_g5C",
        "outputId": "c550a6c4-d23b-4f14-ce14-cfb7ef1a6518"
      },
      "outputs": [
        {
          "data": {
            "text/plain": [
              "9"
            ]
          },
          "execution_count": 54,
          "metadata": {},
          "output_type": "execute_result"
        }
      ],
      "source": [
        "# 맨해튼 거리(Manhattan distance)\n",
        "\n",
        "# math 함수 호출\n",
        "from math import*\n",
        "\n",
        "# 두 점 P1과 P2 정의\n",
        "p1 = (1, 2, 3)\n",
        "p2 = (4, 5, 6)\n",
        "\n",
        "# 맨해튼 거리를 계산하기 위한 사용자 정의 함수 생성\n",
        "def manhattan_distance(x,y):\n",
        "    return sum(abs(a-b) for a,b in zip(x,y))\n",
        "\n",
        "# P1과 P2 사이의 맨해튼 거리 계산\n",
        "manhattan_distance(p1,p2)"
      ]
    },
    {
      "cell_type": "code",
      "execution_count": null,
      "metadata": {
        "id": "zz8kzuMv_g5C",
        "outputId": "843a8975-dbda-4ecb-da4d-12020bcfba4c"
      },
      "outputs": [
        {
          "name": "stdout",
          "output_type": "stream",
          "text": [
            "0.5773502691896258\n",
            "0.8838834764831843\n",
            "0.8164965809277259\n"
          ]
        }
      ],
      "source": [
        "# 코사인 유사도(Cosine Similarity)\n",
        "\n",
        "from numpy import dot\n",
        "from numpy.linalg import norm\n",
        "import numpy as np\n",
        "\n",
        "def cos_sim(A, B):\n",
        "    return dot(A, B)/(norm(A)*norm(B))\n",
        "\n",
        "doc1=np.array([1,1,1,1,0])\n",
        "doc2=np.array([1,0,1,0,1])\n",
        "doc3=np.array([2,1,1,1,1])\n",
        "\n",
        "print(cos_sim(doc1, doc2)) #문서1과 문서2의 코사인 유사도\n",
        "print(cos_sim(doc1, doc3)) #문서1과 문서3의 코사인 유사도\n",
        "print(cos_sim(doc2, doc3)) #문서2과 문서3의 코사인 유사도"
      ]
    },
    {
      "cell_type": "code",
      "execution_count": null,
      "metadata": {
        "id": "QmE0pQPf_g5C",
        "outputId": "7d9be420-413a-4101-d5e2-f705b14f5ce5"
      },
      "outputs": [
        {
          "name": "stdout",
          "output_type": "stream",
          "text": [
            "[[ 1.  0.  0.  0.]\n",
            " [-2.  1.  0.  0.]\n",
            " [-3.  0.  1.  0.]\n",
            " [-4. -0. -0.  1.]]\n"
          ]
        }
      ],
      "source": [
        "# 11장 행렬변환\n",
        "# 11.2 역함수와 역변환\n",
        "# 11.2.2 역행렬\n",
        "\n",
        "import numpy as np\n",
        "A = np.matrix([[1, 0, 0, 0], [2, 1, 0, 0], [3, 0, 1, 0], [4, 0, 0, 1]])\n",
        "print(np.linalg.inv(A))"
      ]
    },
    {
      "cell_type": "code",
      "execution_count": null,
      "metadata": {
        "id": "FSL_38MT_g5C",
        "outputId": "4e9c465f-4cfa-471f-c0a6-e9f5dd76f409"
      },
      "outputs": [
        {
          "name": "stdout",
          "output_type": "stream",
          "text": [
            "[[-2.   1. ]\n",
            " [ 1.5 -0.5]]\n"
          ]
        }
      ],
      "source": [
        "# 파이썬 문제풀이(1)\n",
        "\n",
        "import numpy as np\n",
        "A = np.matrix([[1,2],[3,4]])\n",
        "print(np.linalg.inv(A))"
      ]
    },
    {
      "cell_type": "code",
      "execution_count": null,
      "metadata": {
        "id": "ZJ-8Fi0g_g5D",
        "outputId": "496e001c-62dd-4791-9382-a34180f2fbb0"
      },
      "outputs": [
        {
          "ename": "LinAlgError",
          "evalue": "Singular matrix",
          "output_type": "error",
          "traceback": [
            "\u001b[1;31m---------------------------------------------------------------------------\u001b[0m",
            "\u001b[1;31mLinAlgError\u001b[0m                               Traceback (most recent call last)",
            "\u001b[1;32m<ipython-input-58-484cc664a1ff>\u001b[0m in \u001b[0;36m<module>\u001b[1;34m\u001b[0m\n\u001b[0;32m      3\u001b[0m \u001b[1;32mimport\u001b[0m \u001b[0mnumpy\u001b[0m \u001b[1;32mas\u001b[0m \u001b[0mnp\u001b[0m\u001b[1;33m\u001b[0m\u001b[1;33m\u001b[0m\u001b[0m\n\u001b[0;32m      4\u001b[0m \u001b[0mA\u001b[0m \u001b[1;33m=\u001b[0m \u001b[0mnp\u001b[0m\u001b[1;33m.\u001b[0m\u001b[0mmatrix\u001b[0m\u001b[1;33m(\u001b[0m\u001b[1;33m[\u001b[0m\u001b[1;33m[\u001b[0m\u001b[1;36m2\u001b[0m\u001b[1;33m,\u001b[0m\u001b[1;36m3\u001b[0m\u001b[1;33m]\u001b[0m\u001b[1;33m,\u001b[0m\u001b[1;33m[\u001b[0m\u001b[1;36m4\u001b[0m\u001b[1;33m,\u001b[0m\u001b[1;36m6\u001b[0m\u001b[1;33m]\u001b[0m\u001b[1;33m]\u001b[0m\u001b[1;33m)\u001b[0m\u001b[1;33m\u001b[0m\u001b[1;33m\u001b[0m\u001b[0m\n\u001b[1;32m----> 5\u001b[1;33m \u001b[0mprint\u001b[0m\u001b[1;33m(\u001b[0m\u001b[0mnp\u001b[0m\u001b[1;33m.\u001b[0m\u001b[0mlinalg\u001b[0m\u001b[1;33m.\u001b[0m\u001b[0minv\u001b[0m\u001b[1;33m(\u001b[0m\u001b[0mA\u001b[0m\u001b[1;33m)\u001b[0m\u001b[1;33m)\u001b[0m \u001b[1;31m# 결과는 오류가 맞습니다\u001b[0m\u001b[1;33m\u001b[0m\u001b[1;33m\u001b[0m\u001b[0m\n\u001b[0m",
            "\u001b[1;32m<__array_function__ internals>\u001b[0m in \u001b[0;36minv\u001b[1;34m(*args, **kwargs)\u001b[0m\n",
            "\u001b[1;32m~\\anaconda3\\lib\\site-packages\\numpy\\linalg\\linalg.py\u001b[0m in \u001b[0;36minv\u001b[1;34m(a)\u001b[0m\n\u001b[0;32m    545\u001b[0m     \u001b[0msignature\u001b[0m \u001b[1;33m=\u001b[0m \u001b[1;34m'D->D'\u001b[0m \u001b[1;32mif\u001b[0m \u001b[0misComplexType\u001b[0m\u001b[1;33m(\u001b[0m\u001b[0mt\u001b[0m\u001b[1;33m)\u001b[0m \u001b[1;32melse\u001b[0m \u001b[1;34m'd->d'\u001b[0m\u001b[1;33m\u001b[0m\u001b[1;33m\u001b[0m\u001b[0m\n\u001b[0;32m    546\u001b[0m     \u001b[0mextobj\u001b[0m \u001b[1;33m=\u001b[0m \u001b[0mget_linalg_error_extobj\u001b[0m\u001b[1;33m(\u001b[0m\u001b[0m_raise_linalgerror_singular\u001b[0m\u001b[1;33m)\u001b[0m\u001b[1;33m\u001b[0m\u001b[1;33m\u001b[0m\u001b[0m\n\u001b[1;32m--> 547\u001b[1;33m     \u001b[0mainv\u001b[0m \u001b[1;33m=\u001b[0m \u001b[0m_umath_linalg\u001b[0m\u001b[1;33m.\u001b[0m\u001b[0minv\u001b[0m\u001b[1;33m(\u001b[0m\u001b[0ma\u001b[0m\u001b[1;33m,\u001b[0m \u001b[0msignature\u001b[0m\u001b[1;33m=\u001b[0m\u001b[0msignature\u001b[0m\u001b[1;33m,\u001b[0m \u001b[0mextobj\u001b[0m\u001b[1;33m=\u001b[0m\u001b[0mextobj\u001b[0m\u001b[1;33m)\u001b[0m\u001b[1;33m\u001b[0m\u001b[1;33m\u001b[0m\u001b[0m\n\u001b[0m\u001b[0;32m    548\u001b[0m     \u001b[1;32mreturn\u001b[0m \u001b[0mwrap\u001b[0m\u001b[1;33m(\u001b[0m\u001b[0mainv\u001b[0m\u001b[1;33m.\u001b[0m\u001b[0mastype\u001b[0m\u001b[1;33m(\u001b[0m\u001b[0mresult_t\u001b[0m\u001b[1;33m,\u001b[0m \u001b[0mcopy\u001b[0m\u001b[1;33m=\u001b[0m\u001b[1;32mFalse\u001b[0m\u001b[1;33m)\u001b[0m\u001b[1;33m)\u001b[0m\u001b[1;33m\u001b[0m\u001b[1;33m\u001b[0m\u001b[0m\n\u001b[0;32m    549\u001b[0m \u001b[1;33m\u001b[0m\u001b[0m\n",
            "\u001b[1;32m~\\anaconda3\\lib\\site-packages\\numpy\\linalg\\linalg.py\u001b[0m in \u001b[0;36m_raise_linalgerror_singular\u001b[1;34m(err, flag)\u001b[0m\n\u001b[0;32m     95\u001b[0m \u001b[1;33m\u001b[0m\u001b[0m\n\u001b[0;32m     96\u001b[0m \u001b[1;32mdef\u001b[0m \u001b[0m_raise_linalgerror_singular\u001b[0m\u001b[1;33m(\u001b[0m\u001b[0merr\u001b[0m\u001b[1;33m,\u001b[0m \u001b[0mflag\u001b[0m\u001b[1;33m)\u001b[0m\u001b[1;33m:\u001b[0m\u001b[1;33m\u001b[0m\u001b[1;33m\u001b[0m\u001b[0m\n\u001b[1;32m---> 97\u001b[1;33m     \u001b[1;32mraise\u001b[0m \u001b[0mLinAlgError\u001b[0m\u001b[1;33m(\u001b[0m\u001b[1;34m\"Singular matrix\"\u001b[0m\u001b[1;33m)\u001b[0m\u001b[1;33m\u001b[0m\u001b[1;33m\u001b[0m\u001b[0m\n\u001b[0m\u001b[0;32m     98\u001b[0m \u001b[1;33m\u001b[0m\u001b[0m\n\u001b[0;32m     99\u001b[0m \u001b[1;32mdef\u001b[0m \u001b[0m_raise_linalgerror_nonposdef\u001b[0m\u001b[1;33m(\u001b[0m\u001b[0merr\u001b[0m\u001b[1;33m,\u001b[0m \u001b[0mflag\u001b[0m\u001b[1;33m)\u001b[0m\u001b[1;33m:\u001b[0m\u001b[1;33m\u001b[0m\u001b[1;33m\u001b[0m\u001b[0m\n",
            "\u001b[1;31mLinAlgError\u001b[0m: Singular matrix"
          ]
        }
      ],
      "source": [
        "# 파이썬 문제풀이(2)\n",
        "\n",
        "import numpy as np\n",
        "A = np.matrix([[2,3],[4,6]])\n",
        "print(np.linalg.inv(A)) # 결과는 오류가 맞습니다"
      ]
    },
    {
      "cell_type": "code",
      "execution_count": null,
      "metadata": {
        "id": "8D1wNz29_g5D",
        "outputId": "353ed6a7-f5c4-4f0c-e889-afa7585f43a7"
      },
      "outputs": [
        {
          "name": "stdout",
          "output_type": "stream",
          "text": [
            "[[ 0  1  2  3  4]\n",
            " [ 5  6  7  8  9]\n",
            " [10 11 12 13 14]]\n"
          ]
        }
      ],
      "source": [
        "# 11.3 전치행렬\n",
        "# 11.3.1 전치행렬이란\n",
        "\n",
        "import numpy as np\n",
        "a = np.arange(15).reshape(3, 5)\n",
        "print(a)"
      ]
    },
    {
      "cell_type": "code",
      "execution_count": null,
      "metadata": {
        "id": "pQQfqKj6_g5D",
        "outputId": "b29c91f8-2ff1-4b14-bf26-2bbc920f2848"
      },
      "outputs": [
        {
          "data": {
            "text/plain": [
              "array([[ 0,  5, 10],\n",
              "       [ 1,  6, 11],\n",
              "       [ 2,  7, 12],\n",
              "       [ 3,  8, 13],\n",
              "       [ 4,  9, 14]])"
            ]
          },
          "execution_count": 60,
          "metadata": {},
          "output_type": "execute_result"
        }
      ],
      "source": [
        "np.transpose(a)"
      ]
    },
    {
      "cell_type": "code",
      "execution_count": null,
      "metadata": {
        "id": "hQDPLLeH_g5D",
        "outputId": "ee6bdadb-1c0d-46a6-ad12-508e67630e2b"
      },
      "outputs": [
        {
          "name": "stdout",
          "output_type": "stream",
          "text": [
            "[5.44948974 0.55051026]\n",
            "[[ 0.91209559  0.21927526]\n",
            " [-0.40997761  0.97566304]]\n"
          ]
        }
      ],
      "source": [
        "# 12장 상호좌표계\n",
        "# 12.1 고유값(eigenvalue), 고유벡터(eigenvector), 공유공간\n",
        "# 12.1.1 고유값과 고유벡터란\n",
        "\n",
        "import numpy as np\n",
        "a = np.array([[5,-1],[-2,1]])\n",
        "w, v = np.linalg.eig(a)\n",
        "\n",
        "print(w)\n",
        "print(v)"
      ]
    },
    {
      "cell_type": "code",
      "execution_count": null,
      "metadata": {
        "id": "gKuJv-Gz_g5D",
        "outputId": "a7aefa16-e120-4679-9157-46610c8d8172"
      },
      "outputs": [
        {
          "name": "stdout",
          "output_type": "stream",
          "text": [
            "[-2.  5.]\n",
            "[[-0.70710678 -0.6       ]\n",
            " [ 0.70710678 -0.8       ]]\n"
          ]
        }
      ],
      "source": [
        "# 파이썬 문제풀이\n",
        "import numpy as np\n",
        "a = np.array([[1,3],[4,2]])\n",
        "w, v = np.linalg.eig(a)\n",
        "print(w)\n",
        "print(v)"
      ]
    },
    {
      "cell_type": "code",
      "execution_count": null,
      "metadata": {
        "id": "7ZfQh8Ji_g5D"
      },
      "outputs": [],
      "source": []
    }
  ],
  "metadata": {
    "kernelspec": {
      "display_name": "Python 3",
      "language": "python",
      "name": "python3"
    },
    "language_info": {
      "codemirror_mode": {
        "name": "ipython",
        "version": 3
      },
      "file_extension": ".py",
      "mimetype": "text/x-python",
      "name": "python",
      "nbconvert_exporter": "python",
      "pygments_lexer": "ipython3",
      "version": "3.7.6"
    },
    "colab": {
      "provenance": []
    }
  },
  "nbformat": 4,
  "nbformat_minor": 0
}